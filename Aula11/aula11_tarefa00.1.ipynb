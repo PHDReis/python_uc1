{
 "cells": [
  {
   "cell_type": "code",
   "execution_count": null,
   "metadata": {},
   "outputs": [
    {
     "name": "stdout",
     "output_type": "stream",
     "text": [
      "Dados da pessoa: {'nome': 'Pedro', 'idade': '31', 'cidade': 'Petrópolis'}\n"
     ]
    }
   ],
   "source": [
    "pessoa = {\"nome\": \"Pedro\", \"idade\":\"30\", \"cidade\":\"Petrópolis\"}\n",
    "print(f\"Dados da pessoa: {pessoa}\")\n"
   ]
  },
  {
   "cell_type": "code",
   "execution_count": 3,
   "metadata": {},
   "outputs": [
    {
     "name": "stdout",
     "output_type": "stream",
     "text": [
      "Os dados atualizados: {'nome': 'Pedro', 'idade': '31', 'cidade': 'Petrópolis', 'email': 'pedro@yahoo.com'}\n"
     ]
    }
   ],
   "source": [
    "pessoa[\"email\"]=\"pedro@yahoo.com\"\n",
    "print(f\"Os dados atualizados: {pessoa}\")"
   ]
  },
  {
   "cell_type": "code",
   "execution_count": 4,
   "metadata": {},
   "outputs": [
    {
     "name": "stdout",
     "output_type": "stream",
     "text": [
      "Dados da pessoa: {'nome': 'Pedro', 'idade': 31, 'cidade': 'Petrópolis', 'email': 'pedro@yahoo.com'}\n"
     ]
    }
   ],
   "source": [
    "pessoa[\"idade\"]=31\n",
    "print(f\"Dados da pessoa: {pessoa}\")"
   ]
  },
  {
   "cell_type": "code",
   "execution_count": 5,
   "metadata": {},
   "outputs": [
    {
     "name": "stdout",
     "output_type": "stream",
     "text": [
      "Dados da pessoa: {'nome': 'Pedro', 'idade': 31, 'email': 'pedro@yahoo.com'}\n"
     ]
    }
   ],
   "source": [
    "del pessoa[\"cidade\"]\n",
    "print(f\"Dados da pessoa: {pessoa}\")"
   ]
  }
 ],
 "metadata": {
  "kernelspec": {
   "display_name": "Python 3",
   "language": "python",
   "name": "python3"
  },
  "language_info": {
   "codemirror_mode": {
    "name": "ipython",
    "version": 3
   },
   "file_extension": ".py",
   "mimetype": "text/x-python",
   "name": "python",
   "nbconvert_exporter": "python",
   "pygments_lexer": "ipython3",
   "version": "3.12.3"
  }
 },
 "nbformat": 4,
 "nbformat_minor": 2
}
